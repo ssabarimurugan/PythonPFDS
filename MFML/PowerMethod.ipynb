{
 "cells": [
  {
   "cell_type": "code",
   "execution_count": 3,
   "metadata": {},
   "outputs": [
    {
     "name": "stdout",
     "output_type": "stream",
     "text": [
      "[[ 114.  231.   11.]\n",
      " [ 231. 1074.  -86.]\n",
      " [  11.  -86.   35.]]\n",
      "PurePoly(1.0*lambda**3 - 1223.0*lambda**2 + 103138.0*lambda - 1007475.0, lambda, domain='RR')\n",
      "The eigen values given by sympy package in python is: \n",
      "[1132.73283645   79.01012846   11.25703509]\n",
      "The eigen vector1 given by sympy package in python is: \n",
      "[-0.21977197 -0.97274019  0.07400541]ᵀ\n",
      "The eigen vector2 given by sympy package in python is: \n",
      "[-0.84673264  0.15252645 -0.50968571]ᵀ\n",
      "The eigen vector3 given by sympy package in python is: \n",
      "[-0.48450399  0.17467743  0.85717191]ᵀ\n"
     ]
    }
   ],
   "source": [
    "import numpy as np\n",
    "from sympy import Matrix\n",
    "\n",
    "#Using a random 4x3 matrix\n",
    "C = np.array([[2,-11,3], [6,-2,3], [5,18,-4], [7,25,1]], dtype=np.float64)\n",
    "\n",
    "CTC = C.T @ C\n",
    "\n",
    "print(CTC)\n",
    "\n",
    "eig_values, eig_vectors = np.linalg.eig(CTC)\n",
    "M = Matrix(CTC)\n",
    "print(M.charpoly())\n",
    "\n",
    "print(\"The eigen values given by sympy package in python is: \\n\" + str(eig_values))\n",
    "print(\"The eigen vector1 given by sympy package in python is: \\n\" + str(eig_vectors[:,0]) + \"ᵀ\")\n",
    "print(\"The eigen vector2 given by sympy package in python is: \\n\" + str(eig_vectors[:,1]) + \"ᵀ\")\n",
    "print(\"The eigen vector3 given by sympy package in python is: \\n\" + str(eig_vectors[:,2]) + \"ᵀ\")\n"
   ]
  },
  {
   "cell_type": "code",
   "execution_count": 2,
   "metadata": {},
   "outputs": [
    {
     "name": "stdout",
     "output_type": "stream",
     "text": [
      "Using Power Method\n",
      "Eigen value after iteration 1is 1126.8005986506819\n",
      "Eigen value after iteration 2is 1132.7039381203708\n",
      "Eigen value after iteration 3is 1132.7326958544818\n",
      "Eigen value after iteration 4is 1132.7328357611377\n",
      "Eigen value after iteration 5is 1132.732836441826\n",
      "\n",
      "The computed first eigen value is: 1132.732836441826\n",
      "The computed first eigen vector is: \n",
      "[ 0.21977348  0.97273992 -0.0740045 ]ᵀ\n",
      "\n",
      "Eigen value after iteration 1is 78.7270143634\n",
      "Eigen value after iteration 2is 79.00435780609935\n",
      "Eigen value after iteration 3is 79.0100113166482\n",
      "Eigen value after iteration 4is 79.01012608910729\n",
      "Eigen value after iteration 5is 79.01012841891962\n",
      "Eigen value after iteration 6is 79.01012846621335\n",
      "\n",
      "The computed second eigen value is: 79.01012846621335\n",
      "The computed second eigen vector is: \n",
      "[ 0.84673041 -0.15252751  0.5096891 ]ᵀ\n",
      "\n",
      "Eigen value after iteration 1is 11.257035091960631\n",
      "Eigen value after iteration 2is 11.257035091960633\n",
      "\n",
      "The computed third eigen value is: 11.257035091960633\n",
      "The computed third eigen vector is: \n",
      "[-0.48450721  0.17467801  0.85716997]ᵀ\n"
     ]
    }
   ],
   "source": [
    "def calc_eigen_powermethod(A):\n",
    "    # Choose the initial vector x \n",
    "    x = np.array([[1, 1, 1]]).T \n",
    "\n",
    "    # Define the tolerance \n",
    "    tol = 1e-6\n",
    "  \n",
    "    # Define the maximum number of iterations \n",
    "    max_iterations = 100\n",
    "  \n",
    "    previous_eigen_value = 0\n",
    "  \n",
    "    for i in range(max_iterations): \n",
    "        x = A @ x / np.linalg.norm(A @ x) \n",
    "        eig = (x.T @ A @ x) / (x.T @ x) \n",
    "\n",
    "        print(\"Eigen value after iteration \" + str(i+1) + \" is \" + str(eig[0,0]))\n",
    "\n",
    "        # Check if the eigen value is converged \n",
    "        if np.abs(eig - previous_eigen_value) < tol: \n",
    "            break\n",
    "        \n",
    "        previous_eigen_value = eig \n",
    "    \n",
    "    return eig, x\n",
    "\n",
    "A = CTC\n",
    "print(\"Using Power Method\")\n",
    "eig1, x1 = calc_eigen_powermethod(A)\n",
    "print(\"\\nThe computed first eigen value is: \" + str(eig1[0,0]))\n",
    "print(\"The computed first eigen vector is: \\n\" + str(x1.T[0]) + \"ᵀ\" + \"\\n\")\n",
    "\n",
    "A = A - x1 @ x1.T @ A\n",
    "eig2, x2 = calc_eigen_powermethod(A)\n",
    "print(\"\\nThe computed second eigen value is: \" + str(eig2[0,0]))\n",
    "print(\"The computed second eigen vector is: \\n\" + str(x2.T[0]) + \"ᵀ\" + \"\\n\")\n",
    "\n",
    "A = A - x1 @ x1.T @ A - x2 @ x2.T @ A\n",
    "eig3, x3 = calc_eigen_powermethod(A)\n",
    "print(\"\\nThe computed third eigen value is: \" + str(eig3[0,0]))\n",
    "print(\"The computed third eigen vector is: \\n\" + str(x3.T[0]) + \"ᵀ\")"
   ]
  }
 ],
 "metadata": {
  "kernelspec": {
   "display_name": "base",
   "language": "python",
   "name": "python3"
  },
  "language_info": {
   "codemirror_mode": {
    "name": "ipython",
    "version": 3
   },
   "file_extension": ".py",
   "mimetype": "text/x-python",
   "name": "python",
   "nbconvert_exporter": "python",
   "pygments_lexer": "ipython3",
   "version": "3.11.5"
  }
 },
 "nbformat": 4,
 "nbformat_minor": 2
}
