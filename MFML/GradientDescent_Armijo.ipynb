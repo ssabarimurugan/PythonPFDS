{
 "cells": [
  {
   "cell_type": "code",
   "execution_count": 1,
   "metadata": {},
   "outputs": [],
   "source": [
    "import numpy as np\n",
    "\n",
    "class ObjectiveFunction():\n",
    "\n",
    "    def eval(self, x, y):\n",
    "        return 10 * (x ** 4) - 20 * (x ** 2) * y + (x ** 2) + 10 * (y ** 2) - 2 * x  + 1\n",
    "\n",
    "    def gradient(self, x, y):\n",
    "        return np.array([40 * (x ** 3) - 40 * x * y + 2 * x -2 , 20 * y - 20 * (x ** 2)])\n",
    "\n",
    "    def hessian(self, x, y):\n",
    "        df_dx2 = 120 * (x ** 2) - 40 * y + 2\n",
    "        df_dxy= -40 * x\n",
    "        df_dy2 = 20\n",
    "\n",
    "        return np.array([[df_dx2, df_dxy], [df_dxy, df_dy2]])"
   ]
  },
  {
   "cell_type": "code",
   "execution_count": 3,
   "metadata": {},
   "outputs": [
    {
     "name": "stdout",
     "output_type": "stream",
     "text": [
      "Optimal Point: (1.0000860864244827, 1.0001742864714784)\n",
      "Iterations: 641\n"
     ]
    }
   ],
   "source": [
    "class GradientMethod():\n",
    "    def __init__(self):\n",
    "        self.iterations = 0\n",
    "\n",
    "    def optimize(self, x_0, y_0, func, beta, sigma, epsilon):\n",
    "        x = x_0\n",
    "        y = y_0\n",
    "        while self.stopping_criteria(x,y, func, epsilon):\n",
    "            descent_direction = -1 * func.gradient(x,y)\n",
    "\n",
    "            step_size = self.step_size(x,y,func,beta,descent_direction,sigma)\n",
    "\n",
    "            # update step\n",
    "            x = x + step_size * descent_direction[0]\n",
    "            y = y + step_size * descent_direction[1]\n",
    "            self.iterations += 1\n",
    "\n",
    "        return x , y\n",
    "\n",
    "    def stopping_criteria(self, x,y, func, epsilon):\n",
    "        return np.linalg.norm(func.gradient(x,y)) >= epsilon\n",
    "\n",
    "    def step_size(self, x,y, func, beta, d, sigma):\n",
    "        i = 0\n",
    "        inequality_satisfied = True\n",
    "        while inequality_satisfied:\n",
    "            if func.eval(x + np.power(beta, i) * d[0], y + np.power(beta, i) * d[1]) <= func.eval(x,y) + np.power(beta, i) * sigma * func.gradient(x,y).dot(d):\n",
    "                break\n",
    "            i += 1\n",
    "\n",
    "        return np.power(beta, i)\n",
    "    \n",
    "objective = ObjectiveFunction()\n",
    "starting_point = np.array([-1.2, 1])\n",
    "x0 = -1.2\n",
    "y0 = 1\n",
    "beta = 0.5\n",
    "sigma = 0.0001\n",
    "epsilon = 0.0001\n",
    "\n",
    "optimizer = GradientMethod()\n",
    "\n",
    "x = optimizer.optimize(x0,y0, objective,beta,sigma,epsilon)\n",
    "\n",
    "print(f'Optimal Point: {x}')\n",
    "print(f'Iterations: {optimizer.iterations}')"
   ]
  }
 ],
 "metadata": {
  "kernelspec": {
   "display_name": "base",
   "language": "python",
   "name": "python3"
  },
  "language_info": {
   "codemirror_mode": {
    "name": "ipython",
    "version": 3
   },
   "file_extension": ".py",
   "mimetype": "text/x-python",
   "name": "python",
   "nbconvert_exporter": "python",
   "pygments_lexer": "ipython3",
   "version": "3.11.5"
  }
 },
 "nbformat": 4,
 "nbformat_minor": 2
}
