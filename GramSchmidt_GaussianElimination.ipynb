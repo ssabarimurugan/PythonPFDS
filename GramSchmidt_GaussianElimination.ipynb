{
 "cells": [
  {
   "cell_type": "code",
   "execution_count": 1,
   "metadata": {},
   "outputs": [
    {
     "name": "stdout",
     "output_type": "stream",
     "text": [
      "[[ 0. -2.  1.]\n",
      " [ 1.  3.  1.]\n",
      " [ 0.  0.  1.]\n",
      " [ 1.  1.  5.]]\n",
      "[[ 2.  4.  6.]\n",
      " [ 0.  6. -6.]\n",
      " [ 0.  0.  4.]]\n",
      "[[ 0.  1.  0.  1.]\n",
      " [-2.  1.  0. -1.]\n",
      " [-1. -1.  1.  1.]]\n"
     ]
    }
   ],
   "source": [
    "import numpy as np\n",
    "def gramschmidtQRdecomposeUsingGaussian(A):\n",
    "    nrows = A.shape[0]\n",
    "    ncols = A.shape[1]\n",
    "    AT = np.transpose(A)\n",
    "    R = np.matmul(AT, A)\n",
    "    R_augmented = np.hstack((R,AT))\n",
    "    pivot_row = 0\n",
    "    nrowsAugmented = R_augmented.shape[0]\n",
    "    ncolsAugmented = R_augmented.shape[1]\n",
    "    for col in range(ncolsAugmented):\n",
    "        if (pivot_row >= nrowsAugmented):\n",
    "            break\n",
    "        normalizeFactor = R_augmented[pivot_row, col]\n",
    "        for row in range(pivot_row + 1, nrowsAugmented):\n",
    "            if (R_augmented[row][col] != 0):\n",
    "                factor = R_augmented[row, col]\n",
    "                R_augmented[row] -= (factor/normalizeFactor) * R_augmented[pivot_row]\n",
    "        pivot_row += 1\n",
    "    return (R_augmented[:,:ncols],R_augmented[:,AT.shape[1]-1:])\n",
    "\n",
    "A = np.array([[0,-2,1], [1,3,1], [0,0,1],[1,1,5]], dtype=np.float64)\n",
    "np.set_printoptions(suppress = True)\n",
    "print(A)\n",
    "Q,R = gramschmidtQRdecomposeUsingGaussian(A)\n",
    "\n",
    "print(Q)\n",
    "print(R)"
   ]
  }
 ],
 "metadata": {
  "kernelspec": {
   "display_name": "base",
   "language": "python",
   "name": "python3"
  },
  "language_info": {
   "codemirror_mode": {
    "name": "ipython",
    "version": 3
   },
   "file_extension": ".py",
   "mimetype": "text/x-python",
   "name": "python",
   "nbconvert_exporter": "python",
   "pygments_lexer": "ipython3",
   "version": "3.11.5"
  }
 },
 "nbformat": 4,
 "nbformat_minor": 2
}
