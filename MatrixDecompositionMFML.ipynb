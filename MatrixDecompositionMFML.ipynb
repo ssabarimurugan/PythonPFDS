{
 "cells": [
  {
   "cell_type": "code",
   "execution_count": 1,
   "metadata": {},
   "outputs": [
    {
     "name": "stdout",
     "output_type": "stream",
     "text": [
      "[[ 7.  3. -1.  2.]\n",
      " [ 3.  8.  1. -4.]\n",
      " [-1.  1.  4. -1.]\n",
      " [ 2. -4. -1.  6.]]\n",
      "[[ 1.          0.          0.          0.        ]\n",
      " [ 0.42857143  1.          0.          0.        ]\n",
      " [-0.14285714  0.21276596  1.          0.        ]\n",
      " [ 0.28571429 -0.72340426  0.08982036  1.        ]]\n",
      "[[ 7.          3.         -1.          2.        ]\n",
      " [ 0.          6.71428571  1.42857143 -4.85714286]\n",
      " [ 0.          0.          3.55319149  0.31914894]\n",
      " [ 0.          0.          0.          1.88622754]]\n",
      "[[ 7.  3. -1.  2.]\n",
      " [ 3.  8.  1. -4.]\n",
      " [-1.  1.  4. -1.]\n",
      " [ 2. -4. -1.  6.]]\n"
     ]
    }
   ],
   "source": [
    "import numpy as np\n",
    "\n",
    "def Decompose_LU(A):\n",
    "\n",
    "     # Check if A is square matrix\n",
    "    if (A.shape[0] != A.shape[1]):\n",
    "        print(\"Decompose_LU accepts only square matrix.\")\n",
    "        return\n",
    "    \n",
    "    nrows = ncols = A.shape[0]\n",
    "    pivot_row = 0\n",
    "    \n",
    "    L = np.diag(np.full(nrows,1, dtype = np.float64))\n",
    "    for col in range(ncols):\n",
    "        normalizeFactor = A[pivot_row, col]\n",
    "        for row in range(pivot_row + 1, nrows):\n",
    "            if (A[row][col] != 0):\n",
    "                factor = A[row, col]\n",
    "                A[row] -= (factor/normalizeFactor) * A[pivot_row]\n",
    "                L[row][col] = factor/normalizeFactor\n",
    "        pivot_row += 1\n",
    "    return (L,A)\n",
    "\n",
    "A = np.array([[7, 3, -1, 2], [3, 8, 1, -4], [-1, 1, 4, -1], [2, -4, -1, 6]], dtype=np.float64)\n",
    "#A = np.array([[3,2,4],[2,0,2],[4,2,3]], dtype=np.float64)\n",
    "print(A)\n",
    "L,U = Decompose_LU(A)\n",
    "\n",
    "print(L)\n",
    "print(U)\n",
    "\n",
    "print(np.matmul(L,U))"
   ]
  },
  {
   "cell_type": "code",
   "execution_count": 2,
   "metadata": {},
   "outputs": [
    {
     "name": "stdout",
     "output_type": "stream",
     "text": [
      "[[ 7.  3. -1.  2.]\n",
      " [ 3.  8.  1. -4.]\n",
      " [-1.  1.  4. -1.]\n",
      " [ 2. -4. -1.  6.]]\n",
      "[[ 2.64575131  0.          0.          0.        ]\n",
      " [ 1.13389342  2.59119388  0.          0.        ]\n",
      " [-0.37796447  0.55131785  1.88499111  0.        ]\n",
      " [ 0.75592895 -1.87448068  0.16931058  1.37339999]]\n",
      "[[ 2.64575131  1.13389342 -0.37796447  0.75592895]\n",
      " [ 0.          2.59119388  0.55131785 -1.87448068]\n",
      " [ 0.          0.          1.88499111  0.16931058]\n",
      " [ 0.          0.          0.          1.37339999]]\n",
      "[[ 7.  3. -1.  2.]\n",
      " [ 3.  8.  1. -4.]\n",
      " [-1.  1.  4. -1.]\n",
      " [ 2. -4. -1.  6.]]\n"
     ]
    }
   ],
   "source": [
    "import math\n",
    "\n",
    "def Cholesky_Decomposition(A):\n",
    "\n",
    "     # Check if A is square matrix\n",
    "    if (A.shape[0] != A.shape[1]):\n",
    "        print(\"Decompose_LU accepts only square matrix.\")\n",
    "        return\n",
    "    \n",
    "    nrows = ncols = A.shape[0]\n",
    "    \n",
    "    L = np.zeros((nrows,ncols), dtype = np.float64)\n",
    "    for i in range(nrows):\n",
    "        for j in range(i+1):\n",
    "            sum = 0\n",
    "            if(i == j):\n",
    "                for k in range(j):\n",
    "                    sum += pow(L[j][k], 2)\n",
    "                L[i][j] = math.sqrt(A[i][j] - sum)\n",
    "            else:  \n",
    "                for k in range(j):\n",
    "                    sum += (L[i][k] * L[j][k])\n",
    "                if(L[j][j] > 0):\n",
    "                    L[i][j] = (A[i][j] - sum) / L[j][j]\n",
    "    return (L, np.transpose(L))\n",
    "            \n",
    "A = np.array([[7, 3, -1, 2], [3, 8, 1, -4], [-1, 1, 4, -1], [2, -4, -1, 6]], dtype=np.float64)\n",
    "#A = np.array([[3,2,4],[2,0,2],[4,2,3]], dtype=np.float64)\n",
    "print(A)\n",
    "L,LT = Cholesky_Decomposition(A)\n",
    "\n",
    "print(L)\n",
    "print(LT)\n",
    "\n",
    "print(np.matmul(L,LT))"
   ]
  },
  {
   "cell_type": "code",
   "execution_count": 3,
   "metadata": {},
   "outputs": [
    {
     "name": "stdout",
     "output_type": "stream",
     "text": [
      "[[ 12. -51.   4.]\n",
      " [  6. 167. -68.]\n",
      " [ -4.  24. -42.]]\n",
      "[[ 0.85714286 -0.39428571 -0.33142857]\n",
      " [ 0.42857143  0.90285714  0.03428571]\n",
      " [-0.28571429  0.17142857 -0.94285714]]\n",
      "[[ 14.          21.         -13.71428571]\n",
      " [  0.         175.         -70.17142857]\n",
      " [  0.           0.          35.94285714]]\n",
      "[[ 12. -51.   4.]\n",
      " [  6. 167. -68.]\n",
      " [ -4.  24. -42.]]\n"
     ]
    }
   ],
   "source": [
    "def gramschmidtQRdecompose(A):\n",
    "    nrows = A.shape[0]\n",
    "    ncols = A.shape[1]\n",
    "    Q = np.zeros((nrows,ncols), dtype = np.float64)\n",
    "    R = np.zeros((nrows,ncols), dtype = np.float64)\n",
    "    R[0][0] = norm(A[:,0])\n",
    "    Q[:,0] = A[:,0] / R[0][0]\n",
    "    for i in range(1,ncols):\n",
    "        Q[:,i] = A[:,i]\n",
    "        for j in range(0,i):\n",
    "            R[j][i] = np.matmul(np.matrix.transpose(Q[:,j]), Q[:,i]) \n",
    "            Q[:,i] = Q[:,i] - (R[j][i] * Q[:,j])\n",
    "        R[i][i] = norm(Q[:,i])\n",
    "        Q[:,i] = Q[:,i] / R[i][i]\n",
    "    return Q,R\n",
    "\n",
    "def norm(V):\n",
    "    sum = 0\n",
    "    for i in range(V.shape[0]):\n",
    "        sum += V[i] * V[i]\n",
    "    return math.sqrt(sum)\n",
    "\n",
    "A = np.array([[12,-51,4], [6,167,-68], [-4,24,-42]], dtype=np.float64)\n",
    "#A = np.array([[3,2,4],[2,0,2],[4,2,3]], dtype=np.float64)\n",
    "print(A)\n",
    "Q,R = gramschmidtQRdecompose(A)\n",
    "\n",
    "print(Q)\n",
    "print(R)\n",
    "\n",
    "print(np.matmul(Q,R))"
   ]
  }
 ],
 "metadata": {
  "kernelspec": {
   "display_name": "base",
   "language": "python",
   "name": "python3"
  },
  "language_info": {
   "codemirror_mode": {
    "name": "ipython",
    "version": 3
   },
   "file_extension": ".py",
   "mimetype": "text/x-python",
   "name": "python",
   "nbconvert_exporter": "python",
   "pygments_lexer": "ipython3",
   "version": "3.11.5"
  }
 },
 "nbformat": 4,
 "nbformat_minor": 2
}
