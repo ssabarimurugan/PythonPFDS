{
 "cells": [
  {
   "cell_type": "code",
   "execution_count": 1,
   "id": "84a4949a",
   "metadata": {
    "scrolled": true
   },
   "outputs": [
    {
     "name": "stdout",
     "output_type": "stream",
     "text": [
      "Enter a number:\n",
      "456\n",
      "15\n"
     ]
    }
   ],
   "source": [
    "# Find sum of digits of a input number\n",
    "def FindSum(number):\n",
    "    sum = 0\n",
    "    for num in str(number):\n",
    "        sum += int(num)\n",
    "    print(sum)\n",
    "\n",
    "\n",
    "if __name__ == \"__main__\":\n",
    "    while True:\n",
    "         number = input(\"Enter a number:\\n\")\n",
    "         if number.isnumeric() :\n",
    "             break          \n",
    "    FindSum(number)"
   ]
  },
  {
   "cell_type": "code",
   "execution_count": 2,
   "id": "9acba7e7",
   "metadata": {},
   "outputs": [
    {
     "name": "stdout",
     "output_type": "stream",
     "text": [
      "Enter the number to be validated:\n",
      "153\n",
      "Enter the order:\n",
      "3\n",
      "153 is armstrong number\n"
     ]
    }
   ],
   "source": [
    "# Find if a given number is armstrong number of given order\n",
    "def IsArmstrong(number, order):\n",
    "    sum = 0\n",
    "    for num in str(number):\n",
    "        sum += pow(int(num), int(order))\n",
    "    if sum == int(number) :\n",
    "        print(str(number) + \" is armstrong number\")\n",
    "    else :\n",
    "        print(str(number) + \" is not armstrong number\")\n",
    "\n",
    "if __name__ == \"__main__\":\n",
    "    while True:\n",
    "         number = input(\"Enter the number to be validated:\\n\")\n",
    "         if number.isnumeric() :\n",
    "             break   \n",
    "    while True:\n",
    "         order = input(\"Enter the order:\\n\")\n",
    "         if order.isnumeric() :\n",
    "             break        \n",
    "    IsArmstrong(number, order)"
   ]
  },
  {
   "cell_type": "code",
   "execution_count": 3,
   "id": "5af51274",
   "metadata": {},
   "outputs": [
    {
     "name": "stdout",
     "output_type": "stream",
     "text": [
      "Enter the string to be validated:\n",
      "MALAYALAM\n",
      "MALAYALAM is a palindrome\n"
     ]
    }
   ],
   "source": [
    "# Check if the given string is a palindrome\n",
    "def IsPalindrome(inputString):\n",
    "    strLen = len(inputString)\n",
    "    isPalindrome = False\n",
    "    for i in range(strLen):\n",
    "        if inputString[i] == inputString[strLen - i - 1] :\n",
    "            if (2 * (i + 1)//strLen >= 1) :\n",
    "                isPalindrome = True\n",
    "                break\n",
    "            else :\n",
    "                continue\n",
    "        else :\n",
    "            break\n",
    "\n",
    "    if isPalindrome :\n",
    "        print(inputString + \" is a palindrome\")\n",
    "    else :\n",
    "         print(inputString + \" is not a palindrome\")\n",
    "\n",
    "if __name__ == \"__main__\":\n",
    "    inputString = input(\"Enter the string to be validated:\\n\")       \n",
    "\n",
    "    IsPalindrome(inputString)"
   ]
  },
  {
   "cell_type": "code",
   "execution_count": 4,
   "id": "c1799cb5",
   "metadata": {},
   "outputs": [
    {
     "name": "stdout",
     "output_type": "stream",
     "text": [
      "Enter the number of items in the array: 6\n",
      "Enter 6 items separated by comma (,)\n",
      "4,5,4,2,2,1\n",
      "4 is duplicated 2 times\n",
      "2 is duplicated 2 times\n"
     ]
    }
   ],
   "source": [
    "# Find duplicates in input array\n",
    "def FindDuplicates(lst):\n",
    "    freq = {}       \n",
    "    for num in lst:\n",
    "        if freq.get(num) is not None:\n",
    "            freq[num] += 1\n",
    "        else:\n",
    "            freq[num] = 1\n",
    "\n",
    "    for x in freq :\n",
    "        if freq[x] > 1:\n",
    "            print('{} is duplicated {} times'.format(x, freq[x]))\n",
    "\n",
    "\n",
    "if __name__ == \"__main__\":\n",
    "    numberOfItems = int(input(\"Enter the number of items in the array: \"))\n",
    "    print(\"Enter {} items separated by comma (,)\".format(numberOfItems))\n",
    "    numbers = [int(n,numberOfItems) for n in input().split(\",\")]\n",
    "    FindDuplicates(numbers)\n"
   ]
  },
  {
   "cell_type": "code",
   "execution_count": 5,
   "id": "4ecef2c5",
   "metadata": {},
   "outputs": [
    {
     "name": "stdout",
     "output_type": "stream",
     "text": [
      "Enter a number:\n",
      "414\n",
      "2\n",
      "3\n",
      "3\n",
      "23\n"
     ]
    }
   ],
   "source": [
    "# Following are the steps to find all prime factors: \n",
    "\n",
    "# 1. While n is divisible by 2, print 2 and divide n by 2.\n",
    "# 2. After step 1, n must be odd. Now start a loop from i = 3 to square root of n. While i divides n, print i and divide n by i, increment i by 2 and continue.\n",
    "# 3. If n is a prime number and is greater than 2, then n will not become 1 by above two steps. So print n if it is greater than 2.\n",
    "\n",
    "import math\n",
    "\n",
    "def PrimeFactors(n):\n",
    "    while n % 2 == 0 :\n",
    "        print(2)\n",
    "        n = n // 2\n",
    "    \n",
    "    for i in range(3, int(math.sqrt(n)+1), 2) :\n",
    "        while n % i == 0 :\n",
    "            print(i)\n",
    "            n = n // i\n",
    "\n",
    "    if (n > 2):\n",
    "        print(n)\n",
    "\n",
    "if __name__ == \"__main__\":\n",
    "    while True:\n",
    "         number = input(\"Enter a number:\\n\")\n",
    "         if number.isnumeric() :\n",
    "             break          \n",
    "    PrimeFactors(int(number))"
   ]
  },
  {
   "cell_type": "code",
   "execution_count": 6,
   "id": "1e094920",
   "metadata": {},
   "outputs": [
    {
     "name": "stdout",
     "output_type": "stream",
     "text": [
      "Enter the value of n:5\n",
      "Enter the value of r:2\n",
      "10.0\n"
     ]
    }
   ],
   "source": [
    "# nCr\n",
    "\n",
    "import math\n",
    "\n",
    "def ncr(n, r):\n",
    "    print(factorial(n) / (factorial(r) * factorial(n-r)))\n",
    "\n",
    "def factorial(n):\n",
    "    if n == 1:\n",
    "        return 1\n",
    "    else:\n",
    "        return n * factorial(n-1)\n",
    "\n",
    "if __name__ == \"__main__\":\n",
    "    while True:\n",
    "         n = input(\"Enter the value of n:\")\n",
    "         if n.isnumeric() :\n",
    "             break   \n",
    "    while True:\n",
    "         r = input(\"Enter the value of r:\")\n",
    "         if r.isnumeric() :\n",
    "             break         \n",
    "    ncr(int(n), int(r))"
   ]
  },
  {
   "cell_type": "code",
   "execution_count": 7,
   "id": "9e51a236",
   "metadata": {},
   "outputs": [
    {
     "name": "stdout",
     "output_type": "stream",
     "text": [
      "Enter the number to search: 20\n",
      "Found\n",
      "Found\n"
     ]
    }
   ],
   "source": [
    "def Search(arr, x):\n",
    "    \n",
    "    for num in arr:\n",
    "        if num == x:\n",
    "            print(\"Found\")\n",
    "            return\n",
    "\n",
    "    print(\"Not Found\")\n",
    "\n",
    "def BinarySearch(arr, x):  \n",
    "    low = 0\n",
    "    high = len(arr) - 1\n",
    "    mid = 0\n",
    " \n",
    "    while low <= high:\n",
    " \n",
    "        mid = (high + low) // 2\n",
    " \n",
    "        # If x is greater, ignore left half\n",
    "        if arr[mid] < x:\n",
    "            low = mid + 1\n",
    " \n",
    "        # If x is smaller, ignore right half\n",
    "        elif arr[mid] > x:\n",
    "            high = mid - 1\n",
    " \n",
    "        # means x is present at mid\n",
    "        else:\n",
    "            return True\n",
    " \n",
    "    # If we reach here, then the element was not present\n",
    "    return False\n",
    "\n",
    "def main():\n",
    "    arr = [0, 10, 20, 30, 40, 50, 60, 70, 80, 90, 100]\n",
    "\n",
    "    x = int(input(\"Enter the number to search: \"))\n",
    "    \n",
    "    Search(arr, x)\n",
    "\n",
    "    result = BinarySearch(arr, x)\n",
    "    if result == True:\n",
    "        print(\"Found\")\n",
    "    else:\n",
    "        print(\"NotFound\")\n",
    "\n",
    "\n",
    "if __name__ == \"__main__\":\n",
    "    main()"
   ]
  },
  {
   "cell_type": "code",
   "execution_count": null,
   "id": "0e96ffae",
   "metadata": {},
   "outputs": [],
   "source": [
    "import os\n",
    "import re\n",
    "\n",
    "def FindFrequency(path):\n",
    "    freq = {}   \n",
    "    file = open(path)\n",
    "    data = file.read()\n",
    "    data = data.replace('\\n', ' ')\n",
    "    data = re.sub(r'[^a-zA-Z0-9\\s\\’]+', '', data)\n",
    "    data_list = data.split(' ')\n",
    "\n",
    "    for word in data_list:\n",
    "        if freq.get(word) is not None:\n",
    "            freq[word] += 1\n",
    "        else:\n",
    "            freq[word] = 1\n",
    "\n",
    "    for x in freq :\n",
    "        print('{} is occurs {} times'.format(x, freq[x]))\n",
    "\n",
    "    top3 = sorted(freq, key=freq.get, reverse=True)[:3]\n",
    "\n",
    "    print(\"Top 3 frequent words: \")\n",
    "    print(top3)\n",
    "\n",
    "def main():\n",
    "    while True:\n",
    "        fileName = input(\"Enter a valid input file name (in same directory as notebook):\")\n",
    "        notebook_path = os.path.abspath(\"AssignmentPFDS.ipynb\")\n",
    "        abs_file_path = os.path.join(os.path.dirname(notebook_path), fileName)\n",
    "        print(abs_file_path)\n",
    "        if os.path.isfile(abs_file_path) :\n",
    "            break\n",
    "    \n",
    "    FindFrequency(abs_file_path)\n",
    "        \n",
    "if __name__ == \"__main__\":  \n",
    "    main()"
   ]
  },
  {
   "cell_type": "code",
   "execution_count": 9,
   "id": "69bba865",
   "metadata": {},
   "outputs": [
    {
     "name": "stdout",
     "output_type": "stream",
     "text": [
      "India\n",
      "Pak\n",
      "Ban\n"
     ]
    }
   ],
   "source": [
    "tup = (\"India\", \"Pak\", \"Ban\")\n",
    "for i in tup:\n",
    "    print(i)"
   ]
  },
  {
   "cell_type": "code",
   "execution_count": 10,
   "id": "e7a1ccf4",
   "metadata": {},
   "outputs": [
    {
     "name": "stdout",
     "output_type": "stream",
     "text": [
      "Enter the number of names in the list:5\n",
      "Enter the names\n",
      "\n",
      "Bing\n",
      "Bang\n",
      "The\n",
      "fin\n",
      "aim\n",
      "['Bang', 'Bing', 'The', 'aim', 'fin']\n"
     ]
    }
   ],
   "source": [
    "def SortList(lst):\n",
    "    lst.sort()\n",
    "    print(lst)\n",
    "\n",
    "\n",
    "if __name__ == \"__main__\":\n",
    "    lst = []\n",
    "    \n",
    "    n =  int(input(\"Enter the number of names in the list:\"))\n",
    "    print(\"Enter the names\\n\")\n",
    "    \n",
    "    for i in range(0, n):\n",
    "        ele = input()\n",
    "        lst.append(ele) \n",
    "    \n",
    "    SortList(lst)"
   ]
  },
  {
   "cell_type": "code",
   "execution_count": null,
   "id": "29099b04",
   "metadata": {},
   "outputs": [],
   "source": []
  }
 ],
 "metadata": {
  "kernelspec": {
   "display_name": "Python 3 (ipykernel)",
   "language": "python",
   "name": "python3"
  },
  "language_info": {
   "codemirror_mode": {
    "name": "ipython",
    "version": 3
   },
   "file_extension": ".py",
   "mimetype": "text/x-python",
   "name": "python",
   "nbconvert_exporter": "python",
   "pygments_lexer": "ipython3",
   "version": "3.11.5"
  }
 },
 "nbformat": 4,
 "nbformat_minor": 5
}
